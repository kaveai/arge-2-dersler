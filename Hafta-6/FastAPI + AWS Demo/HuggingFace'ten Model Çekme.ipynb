{
 "cells": [
  {
   "cell_type": "code",
   "execution_count": null,
   "id": "943152b1-cd24-4711-a405-b24ca3b419a1",
   "metadata": {},
   "outputs": [],
   "source": [
    "!pip install transformers==4.21.1"
   ]
  },
  {
   "cell_type": "code",
   "execution_count": 1,
   "id": "890cb9d0-7eb7-4e16-9d94-7d6577ef22fe",
   "metadata": {},
   "outputs": [
    {
     "data": {
      "text/plain": [
       "'4.21.1'"
      ]
     },
     "execution_count": 1,
     "metadata": {},
     "output_type": "execute_result"
    }
   ],
   "source": [
    "import transformers\n",
    "transformers.__version__"
   ]
  },
  {
   "cell_type": "code",
   "execution_count": 11,
   "id": "4a329be9-5502-409c-847f-5405ababe9fa",
   "metadata": {},
   "outputs": [
    {
     "data": {
      "text/plain": [
       "[{'label': 'LABEL_1', 'score': 0.8971970677375793}]"
      ]
     },
     "execution_count": 11,
     "metadata": {},
     "output_type": "execute_result"
    }
   ],
   "source": [
    "from transformers import AutoModelForSequenceClassification, AutoTokenizer, pipeline\n",
    "model = AutoModelForSequenceClassification.from_pretrained('azizbarank/distilbert-base-turkish-cased-sentiment')\n",
    "tokenizer = AutoTokenizer.from_pretrained('azizbarank/distilbert-base-turkish-cased-sentiment')\n",
    "pipeline = pipeline(\"sentiment-analysis\", tokenizer=tokenizer, model=model)\n",
    "pipeline('bu film çok iyiydi')"
   ]
  },
  {
   "cell_type": "code",
   "execution_count": 9,
   "id": "8d6982b5-2724-4dea-bdf0-6629c6c2d7de",
   "metadata": {},
   "outputs": [],
   "source": [
    "from transformers import AutoModelForSequenceClassification, AutoTokenizer, pipeline\n",
    "\n",
    "class Sentiment_Analyser:\n",
    "    def __init__(self):\n",
    "        model = AutoModelForSequenceClassification.from_pretrained('azizbarank/distilbert-base-turkish-cased-sentiment')\n",
    "        tokenizer = AutoTokenizer.from_pretrained('azizbarank/distilbert-base-turkish-cased-sentiment')\n",
    "        self.pipeline = pipeline(\"sentiment-analysis\", tokenizer=tokenizer, model=model)\n",
    "        self.text_labels = {'LABEL_1':'positive', 'LABEL_0':'negative'}\n",
    "    \n",
    "    def predict(self, text):\n",
    "        res = self.pipeline(text)[0]\n",
    "        res['label'] = self.text_labels[res['label']]\n",
    "        return res"
   ]
  },
  {
   "cell_type": "code",
   "execution_count": 10,
   "id": "58ee1a48-86df-49b3-8c85-8222aa6d11f7",
   "metadata": {},
   "outputs": [
    {
     "data": {
      "text/plain": [
       "{'label': 'positive', 'score': 0.8971970677375793}"
      ]
     },
     "execution_count": 10,
     "metadata": {},
     "output_type": "execute_result"
    }
   ],
   "source": [
    "sa = Sentiment_Analyser()\n",
    "sa.predict('bu film çok iyiydi')"
   ]
  },
  {
   "cell_type": "markdown",
   "id": "3963229f-4c9f-417d-bbcf-2e359e9fbab1",
   "metadata": {},
   "source": [
    "# FastAPI"
   ]
  },
  {
   "cell_type": "code",
   "execution_count": null,
   "id": "4e51de60-1659-437e-bcb7-8c00f056bf60",
   "metadata": {},
   "outputs": [],
   "source": [
    "from fastapi import FastAPI\n",
    "\n",
    "app = FastAPI()\n",
    "\n",
    "@app.get(\"/\")\n",
    "async def root():\n",
    "    return {\"message\": \"Hello World\"}"
   ]
  },
  {
   "cell_type": "code",
   "execution_count": null,
   "id": "ff26eb56-9a4a-4157-aabc-5e807ed2fc52",
   "metadata": {},
   "outputs": [],
   "source": [
    "uvicorn main:app --reload"
   ]
  },
  {
   "cell_type": "code",
   "execution_count": null,
   "id": "d8c518f1-31c6-4805-95ba-54b2950773ca",
   "metadata": {},
   "outputs": [],
   "source": []
  }
 ],
 "metadata": {
  "kernelspec": {
   "display_name": "Python 3 (ipykernel)",
   "language": "python",
   "name": "python3"
  },
  "language_info": {
   "codemirror_mode": {
    "name": "ipython",
    "version": 3
   },
   "file_extension": ".py",
   "mimetype": "text/x-python",
   "name": "python",
   "nbconvert_exporter": "python",
   "pygments_lexer": "ipython3",
   "version": "3.9.12"
  }
 },
 "nbformat": 4,
 "nbformat_minor": 5
}
